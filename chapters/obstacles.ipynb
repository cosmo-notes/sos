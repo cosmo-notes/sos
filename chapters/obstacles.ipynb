{
 "cells": [
  {
   "cell_type": "markdown",
   "id": "a9815087-958b-493c-8a7c-7e4ed6a2a1e7",
   "metadata": {},
   "source": [
    "# Exercises part II: obstacles in continuous space"
   ]
  },
  {
   "cell_type": "markdown",
   "id": "57f63d52",
   "metadata": {},
   "source": [
    "Models of collective behavior are sometimes used to model groups of humans in particular situations like panic in a crowd or a circle pit at a heavy metal show. These models can help us answer practical questions such as: Where should we put the emergency exit if we want a panicked crowd to find it easily? This involves the modeling of collective behavior with obstacles to model impenetrable walls and other architectural features of the system.\n",
    "\n",
    "Feel free to use the code below to play around with obstacles and changes in direction. In the current set-up, agents are trying to cross the obstacle and should never be allowed to enter. Unfortunately, discretization can let them teleport across boundaries and bad handling of boundaries can let to unphysical behavior. Can you help protect the structure from the swarm?"
   ]
  },
  {
   "cell_type": "code",
   "execution_count": 50,
   "id": "01bf857b",
   "metadata": {},
   "outputs": [
    {
     "name": "stderr",
     "output_type": "stream",
     "text": [
      "MovieWriter ffmpeg unavailable; using Pillow instead.\n"
     ]
    }
   ],
   "source": [
    "import numpy as np\n",
    "import scipy as sp\n",
    "from scipy import sparse\n",
    "from scipy.spatial import cKDTree\n",
    "from math import floor\n",
    "import matplotlib.pyplot as plt\n",
    "from matplotlib.animation import FuncAnimation\n",
    "from matplotlib.patches import Rectangle\n",
    "from IPython.display import HTML\n",
    " \n",
    "#Parameters\n",
    "L = 32 #size of the world\n",
    "density = 1.0 #spatial density of agents\n",
    "N = int(density*L**2) #number of agents\n",
    "r = 1.0 #influence distance\n",
    "v = 1.0 #velocity of agents\n",
    "noise = 0.15 #scale of uniform noise in radiant\n",
    "\n",
    "#initial conditions\n",
    "pos = np.zeros((N,2))\n",
    "orient = np.random.uniform(-np.pi, np.pi,size=N)\n",
    "\n",
    "#sets up the plot where color = orientation \n",
    "fig, ax= plt.subplots(figsize=(6,6))\n",
    "qv = ax.quiver(pos[:,0], pos[:,1], np.cos(orient), np.sin(orient), orient, clim=[-np.pi, np.pi])\n",
    "plt.xlim([0, 32])\n",
    "plt.ylim([0, 32])\n",
    "\n",
    "#Feel free to add hard obstacles here!\n",
    "#Forbidden spaces are marked in the Obstacle array and can be plotted below\n",
    "#[Think about the discrete space and time unit below]\n",
    "ds = 5 #discrete space unit\n",
    "deltat = 0.75 #timestep\n",
    "width = 0.5 #width of obstacles\n",
    "Obstacle = np.zeros((ds*L,ds*L))\n",
    "#bottom wall\n",
    "ax.add_patch(Rectangle((10,10), 10, width, color='k'))\n",
    "Obstacle[ds*10:floor(ds*(10+width)),ds*10:ds*20] = 1\n",
    "#top wall\n",
    "ax.add_patch(Rectangle((10,20), 10, width, color='k'))\n",
    "Obstacle[ds*20:floor(ds*(20+width)),ds*10:ds*20] = 1\n",
    "#left wall\n",
    "ax.add_patch(Rectangle((10,10), width, 10, color='k'))\n",
    "Obstacle[ds*10:ds*20,ds*10:floor(ds*(10+width))] = 1\n",
    "#right wall\n",
    "ax.add_patch(Rectangle((20-width,10), width, 10, color='k'))\n",
    "Obstacle[ds*10:ds*20,floor(ds*(20-width)):ds*20] = 1\n",
    "plt.close()\n",
    "\n",
    "#the model itself\n",
    "def animate(i):\n",
    " \n",
    "    global orient\n",
    "    tree = cKDTree(pos,boxsize=[L,L])\n",
    "    dist = tree.sparse_distance_matrix(tree, max_distance=r,output_type='coo_matrix')\n",
    " \n",
    "    #important 3 lines: we evaluate a quantity for every column j\n",
    "    data = np.exp(orient[dist.col]*1j)\n",
    "    # construct  a new sparse marix with entries in the same places ij of the dist matrix\n",
    "    neigh = sparse.coo_matrix((data,(dist.row,dist.col)), shape=dist.get_shape())\n",
    "    # and sum along the columns (sum over j)\n",
    "    S = np.squeeze(np.asarray(neigh.tocsr().sum(axis=1)))\n",
    "     \n",
    "    #new orientation = average of close neighbors + noise\n",
    "    orient = np.angle(S)+noise*np.random.uniform(-np.pi, np.pi, size=N)\n",
    "\n",
    "    #calculate new positions with Euler's method\n",
    "    cos, sin= np.cos(orient), np.sin(orient)\n",
    "    newpos = pos #potential new position\n",
    "    newpos[:,0] = (pos[:,0] + deltat*v*cos)%L\n",
    "    newpos[:,1] = (pos[:,1] + deltat*v*sin)%L\n",
    " \n",
    "    #Different way of doing a modulo\n",
    "    #newpos[pos>L] -= L\n",
    "    #newpos[pos<0] += L\n",
    "\n",
    "    #reverse around obstacle\n",
    "    for bad_boid in range(N):\n",
    "        #[insert smart obstacle management below]:\n",
    "        if Obstacle[int(floor(ds*newpos[bad_boid,1])),int(floor(ds*newpos[bad_boid,0]))]==1:\n",
    "            #bad boid! turn around in some way\n",
    "            orient[bad_boid] = orient[bad_boid]+np.pi\n",
    "            cos, sin= np.cos(orient[bad_boid]), np.sin(orient[bad_boid])\n",
    "            pos[bad_boid,0] = (pos[bad_boid,0] + deltat*v*cos)%L\n",
    "            pos[bad_boid,1] = (pos[bad_boid,1] + deltat*v*sin)%L\n",
    "        else:\n",
    "            pos[bad_boid,0] = newpos[bad_boid,0]\n",
    "            pos[bad_boid,1] = newpos[bad_boid,1]\n",
    "            \n",
    "    #update quiver plot\n",
    "    qv.set_offsets(pos)\n",
    "    qv.set_UVC(cos, sin,orient)\n",
    "    \n",
    "    return qv,\n",
    "\n",
    "#animation details\n",
    "fps = 20\n",
    "nb_seconds = 5\n",
    "anim = FuncAnimation(fig,animate,frames=nb_seconds*fps,interval=1000/fps)\n",
    "anim.save('wall.gif', dpi=90)\n",
    "plt.close()"
   ]
  },
  {
   "cell_type": "markdown",
   "id": "df7d727b",
   "metadata": {},
   "source": [
    "![wall](./wall.gif?query=123463)"
   ]
  }
 ],
 "metadata": {
  "kernelspec": {
   "display_name": "Python 3 (ipykernel)",
   "language": "python",
   "name": "python3"
  },
  "language_info": {
   "codemirror_mode": {
    "name": "ipython",
    "version": 3
   },
   "file_extension": ".py",
   "mimetype": "text/x-python",
   "name": "python",
   "nbconvert_exporter": "python",
   "pygments_lexer": "ipython3",
   "version": "3.9.12"
  }
 },
 "nbformat": 4,
 "nbformat_minor": 5
}
