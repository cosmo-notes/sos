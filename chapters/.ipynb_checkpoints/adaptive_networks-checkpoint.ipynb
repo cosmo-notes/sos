{
 "cells": [
  {
   "cell_type": "markdown",
   "id": "a9815087-958b-493c-8a7c-7e4ed6a2a1e7",
   "metadata": {},
   "source": [
    "# Adaptive networks"
   ]
  },
  {
   "cell_type": "markdown",
   "id": "df48d4be-2dd6-457d-9576-be5ad25110f7",
   "metadata": {},
   "source": [
    "Adaptive networks refer to a class of network models where the structure co-evolves with (or in response to) a dynamical process occurring on the network. Think for example about how you might avoid close contact with someone visibly ill, rewiring that contact to"
   ]
  },
  {
   "cell_type": "markdown",
   "id": "619c7786-ebcc-493b-b0a1-dba5a83673b7",
   "metadata": {},
   "source": [
    "## Adaptive networks with node-based AMEs"
   ]
  },
  {
   "cell_type": "markdown",
   "id": "d95a7049-b4c1-4f71-996f-556f05a7162d",
   "metadata": {},
   "source": [
    "Coming soon!"
   ]
  }
 ],
 "metadata": {
  "kernelspec": {
   "display_name": "Python 3 (ipykernel)",
   "language": "python",
   "name": "python3"
  },
  "language_info": {
   "codemirror_mode": {
    "name": "ipython",
    "version": 3
   },
   "file_extension": ".py",
   "mimetype": "text/x-python",
   "name": "python",
   "nbconvert_exporter": "python",
   "pygments_lexer": "ipython3",
   "version": "3.9.12"
  }
 },
 "nbformat": 4,
 "nbformat_minor": 5
}
