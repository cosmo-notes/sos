{
 "cells": [
  {
   "cell_type": "markdown",
   "id": "a9815087-958b-493c-8a7c-7e4ed6a2a1e7",
   "metadata": {},
   "source": [
    "# Exercises part II: obstacles in continuous space"
   ]
  },
  {
   "cell_type": "markdown",
   "id": "57f63d52",
   "metadata": {},
   "source": []
  }
 ],
 "metadata": {
  "kernelspec": {
   "display_name": "Python 3 (ipykernel)",
   "language": "python",
   "name": "python3"
  },
  "language_info": {
   "codemirror_mode": {
    "name": "ipython",
    "version": 3
   },
   "file_extension": ".py",
   "mimetype": "text/x-python",
   "name": "python",
   "nbconvert_exporter": "python",
   "pygments_lexer": "ipython3",
   "version": "3.9.12"
  }
 },
 "nbformat": 4,
 "nbformat_minor": 5
}