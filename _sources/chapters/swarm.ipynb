{
 "cells": [
  {
   "cell_type": "markdown",
   "id": "9bf28329-24f4-4d24-a5b8-cb997a652160",
   "metadata": {},
   "source": [
    "# Swarm models\n",
    "\n",
    "How often have you seen a [murmuration of starlings](https://www.youtube.com/watch?v=V4f_1_r80RY) or [baitball of mackerel](https://www.youtube.com/watch?v=ofeYisqfOO8) in an introduction to complex systems? Models of collective behavior are staples of complexity science, yet they can be deceptively tricky to implement and simulate. These are often defined over continuous time and continuous space as continuous state models where every agent is unique such that composition approaches are useless and events occur continuously. If we can discretize neither time itself nor the sequence of events, how can we tackle these effectively?"
   ]
  },
  {
   "cell_type": "markdown",
   "id": "4b56a75f-17a6-4e40-8b98-fed152f39048",
   "metadata": {},
   "source": [
    "One common approach is to use the most naive algorithm for continuous system we have seen, discrete time simulations, but couple that approach with fast algorithms from image processing toolboxes."
   ]
  },
  {
   "cell_type": "markdown",
   "id": "08723885",
   "metadata": {},
   "source": [
    "## The Vicsek model"
   ]
  },
  {
   "cell_type": "markdown",
   "id": "d1a78c8a",
   "metadata": {},
   "source": [
    "There are dozens of variants of models attempting to capture how collection of simple and noisy agents can produce coherent collective behavior. One classic example that we will tackle here is the [Vicsek model](https://en.wikipedia.org/wiki/Vicsek_model). It consists of a dynamical system governing the movement of agents with fixed speed that simply attempt to align each other. The state of every agent $i$ can therefore be specified by a position $r_i = (x_i,y_i)$ and a direction $\\theta_i$, since its velocity $v$ is fixed by the model. The position can be updated following the laws of motion, but the direction $\\theta_i$ will depend on the behavior of other agents $\\lbrace \\theta_j\\rbrace$. In practice, we might assume that agents are aware of the motion of other close-by agents, say within a radius $r$, and thus re-orient themselves at a certain speed towards the average direction of their neighbors. However, their assessment might not be perfect and we therefore apply some random noise $\\eta$ to their new position. No one wants to be against the grain, but no one really knows what the grain is.\n",
    "\n",
    "In practice, and since we will implement this as a discrete time simulation of the model, it is convenient to assume that the re-orientation process happens at a speed of one timestep. The discrete rules of the model are then as follows."
   ]
  },
  {
   "cell_type": "markdown",
   "id": "eaace727",
   "metadata": {},
   "source": [
    "$$\n",
    "\\theta_i(t+\\Delta t) = \\langle \\theta _j \\rangle _{\\vert r_i-r_j\\vert < r} + \\eta_i(t)\n",
    "$$"
   ]
  },
  {
   "cell_type": "markdown",
   "id": "acf7d2db",
   "metadata": {},
   "source": [
    "$$\n",
    "x_i(t+\\Delta t) = x_i(t) + v\\Delta t \\cos\\theta_i(t)\n",
    "$$"
   ]
  },
  {
   "cell_type": "markdown",
   "id": "10b0f6af",
   "metadata": {},
   "source": [
    "$$\n",
    "y_i(t+\\Delta t) = y_i(t) + v\\Delta t \\sin\\theta_i(t)\n",
    "$$"
   ]
  },
  {
   "cell_type": "markdown",
   "id": "009c8eef",
   "metadata": {},
   "source": [
    "What can be so slow about an implementation of this model? As we said above, for a population of 1000 agents, these give us 3000 equations with no smart way to combine them. What is trickier, is that we need to identify the network of agents that are within a distance $r$ of each other. Doing so by hand can be time consuming, unless we rely on existing smart routine."
   ]
  },
  {
   "cell_type": "markdown",
   "id": "8cfea837",
   "metadata": {},
   "source": [
    "## kd-tree structure"
   ]
  },
  {
   "cell_type": "markdown",
   "id": "240f0ea9",
   "metadata": {},
   "source": [
    "Our implementation is going to rely on the *kd-tree* algorithm from [Maneewongvatana and Mount (1999)](https://arxiv.org/abs/cs/9901013). A kd-tree is a binary tree where nodes represent a hierarchically nested rectangles. At every branching of the tree, a rectangle is split on alternating dimensions of the original space either at the mid-point of that axis, or at the median point of contained data, or some smarter technique to avoid trivial splits. Therefore a node in the kd-tree contains all data points that lie within its rectangle, and its two children will contain the two complementary subsets that lie on one side or the other of a split. The figure below, reproduced from Maneewongvatana and Mount (1999) illustrates how different splitting procedures give you different nested hierarchies of rectangles. The process is stopped when rectangles contain a single point or reach a miminum size specified by the user."
   ]
  },
  {
   "cell_type": "markdown",
   "id": "b8c3a977",
   "metadata": {},
   "source": [
    "![Splits for kd-tree from Maneewongvatana and Mount (1999)](./assets/png/kdsplit.png)"
   ]
  },
  {
   "cell_type": "markdown",
   "id": "358af87d",
   "metadata": {},
   "source": [
    "The resulting data structure makes searching for nearest neighbors much faster than exhaustive search."
   ]
  },
  {
   "cell_type": "markdown",
   "id": "69889b36",
   "metadata": {},
   "source": [
    "## Simulation of the Vicsek model"
   ]
  },
  {
   "cell_type": "code",
   "execution_count": 11,
   "id": "cce6a375",
   "metadata": {},
   "outputs": [
    {
     "name": "stderr",
     "output_type": "stream",
     "text": [
      "MovieWriter ffmpeg unavailable; using Pillow instead.\n"
     ]
    }
   ],
   "source": [
    "import numpy as np\n",
    "import scipy as sp\n",
    "from scipy import sparse\n",
    "from scipy.spatial import cKDTree\n",
    "import matplotlib.pyplot as plt\n",
    "from matplotlib.animation import FuncAnimation\n",
    "from IPython.display import HTML\n",
    " \n",
    "#Parameters\n",
    "L = 32.0 #size of the world\n",
    "density = 8.5 #spatial density of agents\n",
    "N = int(density*L**2) #number of agents\n",
    "r = 1.0 #influence distance\n",
    "deltat = 1.0 #timestep\n",
    "v = 1.0 #velocity of agents\n",
    "noise = 0.30 #scale of uniform noise in radiant\n",
    "\n",
    "#initial conditions\n",
    "pos = np.random.uniform(0,L,size=(N,2))\n",
    "orient = np.random.uniform(-np.pi, np.pi,size=N)\n",
    "\n",
    "#sets up the plot where color = orientation \n",
    "fig, ax= plt.subplots(figsize=(6,6))\n",
    "qv = ax.quiver(pos[:,0], pos[:,1], np.cos(orient), np.sin(orient), orient, clim=[-np.pi, np.pi])\n",
    "\n",
    "#the model itself\n",
    "def animate(i):\n",
    " \n",
    "    global orient\n",
    "\n",
    "    #cKDTree is a class that looks up nearest neighbors with different definitions\n",
    "    tree = cKDTree(pos,boxsize=[L,L])\n",
    "    dist = tree.sparse_distance_matrix(tree, max_distance=r,output_type='coo_matrix')\n",
    " \n",
    "    #important 3 lines: we turn the orientation of every agent to a phasor\n",
    "    data = np.exp(orient[dist.col]*1j)\n",
    "    # construct a new sparse matrix of positions for every neighbor\n",
    "    neigh = sparse.coo_matrix((data,(dist.row,dist.col)), shape=dist.get_shape())\n",
    "    # and sum along the columns (sum over j) to sum orientation of neighbors\n",
    "    S = np.squeeze(np.asarray(neigh.tocsr().sum(axis=1)))\n",
    "     \n",
    "    #new orientation = average of close neighbors + noise\n",
    "    orient = np.angle(S)+noise*np.random.uniform(-np.pi, np.pi, size=N)\n",
    "\n",
    "    #calculate new positions\n",
    "    cos, sin= np.cos(orient), np.sin(orient)\n",
    "    pos[:,0] = pos[:,0] + deltat*v*cos\n",
    "    pos[:,1] = pos[:,1] + deltat*v*sin\n",
    " \n",
    "    #Periodic boundaries\n",
    "    pos[pos>L] -= L\n",
    "    pos[pos<0] += L\n",
    " \n",
    "    #update quiver plot\n",
    "    qv.set_offsets(pos)\n",
    "    qv.set_UVC(cos, sin,orient)\n",
    "    return qv,\n",
    "\n",
    "\n",
    "#animation details\n",
    "fps = 20\n",
    "nb_seconds = 5\n",
    "anim = FuncAnimation(fig,animate,frames=nb_seconds*fps,interval=1000/fps)\n",
    "anim.save('vicsek.gif', dpi=90)\n",
    "plt.close()"
   ]
  },
  {
   "cell_type": "markdown",
   "id": "e0e02469",
   "metadata": {},
   "source": [
    "![Vicsek](./vicsek.gif)"
   ]
  }
 ],
 "metadata": {
  "kernelspec": {
   "display_name": "Python 3 (ipykernel)",
   "language": "python",
   "name": "python3"
  },
  "language_info": {
   "codemirror_mode": {
    "name": "ipython",
    "version": 3
   },
   "file_extension": ".py",
   "mimetype": "text/x-python",
   "name": "python",
   "nbconvert_exporter": "python",
   "pygments_lexer": "ipython3",
   "version": "3.10.12"
  }
 },
 "nbformat": 4,
 "nbformat_minor": 5
}
