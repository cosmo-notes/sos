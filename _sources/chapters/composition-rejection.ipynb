{
 "cells": [
  {
   "cell_type": "markdown",
   "id": "7cd7bd62",
   "metadata": {},
   "source": [
    "# Composition-rejection simulations"
   ]
  },
  {
   "cell_type": "markdown",
   "id": "2e61c93d",
   "metadata": {},
   "source": [
    "Coming soon!"
   ]
  },
  {
   "cell_type": "markdown",
   "id": "98b267ae",
   "metadata": {},
   "source": [
    "## Samplable sets"
   ]
  }
 ],
 "metadata": {
  "kernelspec": {
   "display_name": "Python 3 (ipykernel)",
   "language": "python",
   "name": "python3"
  },
  "language_info": {
   "codemirror_mode": {
    "name": "ipython",
    "version": 3
   },
   "file_extension": ".py",
   "mimetype": "text/x-python",
   "name": "python",
   "nbconvert_exporter": "python",
   "pygments_lexer": "ipython3",
   "version": "3.9.12"
  }
 },
 "nbformat": 4,
 "nbformat_minor": 5
}
